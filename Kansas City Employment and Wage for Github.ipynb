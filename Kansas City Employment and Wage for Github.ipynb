{
 "cells": [
  {
   "cell_type": "code",
   "execution_count": 33,
   "metadata": {},
   "outputs": [],
   "source": [
    "#Running on Python version 3.12.1\n",
    "import pandas as pd\n",
    "import numpy as np\n",
    "import matplotlib.pyplot as plt\n",
    "import seaborn as sns"
   ]
  },
  {
   "cell_type": "markdown",
   "metadata": {},
   "source": [
    "Import Data from US Bureau of Labor Statistics on Excel"
   ]
  },
  {
   "cell_type": "code",
   "execution_count": 34,
   "metadata": {},
   "outputs": [],
   "source": [
    "Sheet4 = pd.read_excel('Kansas City Employment Data (Github).xlsx', sheet_name=\"Unemployment tables\", usecols='A:N')\n",
    "Sheet5 = pd.read_excel('Consumer Price Index for All Urban Consumers.xlsx', sheet_name='BLS Data Series', header=11, usecols='A:M', index_col=0).fillna(0)"
   ]
  },
  {
   "cell_type": "markdown",
   "metadata": {},
   "source": [
    "Cleaning Data"
   ]
  },
  {
   "cell_type": "code",
   "execution_count": 35,
   "metadata": {},
   "outputs": [],
   "source": [
    "Unemployment = {}\n",
    "for row,name in enumerate(Sheet4.iloc[:, 0]):\n",
    "    if name == 'Row Labels':\n",
    "        Unemployment[f'{Sheet4.iloc[row-1,0]}'] = Sheet4.iloc[row:row+13]\n",
    "\n",
    "\n",
    "def clean(dictofdfs, indexcol):\n",
    "    for table in dictofdfs:\n",
    "        dictofdfs[table].reset_index(inplace=True, drop=True)\n",
    "        dictofdfs[table].columns = dictofdfs[table].iloc[0]\n",
    "        dictofdfs[table] = dictofdfs[table][1:].reset_index(drop=True)\n",
    "        dictofdfs[table].set_index(dictofdfs[table][indexcol], inplace=True)\n",
    "        dictofdfs[table].drop(indexcol, axis=1, inplace=True)\n",
    "        dictofdfs[table].fillna(0, inplace=True)\n",
    "        for col in dictofdfs[table]:\n",
    "            dictofdfs[table][col] = dictofdfs[table][col].astype(str).str.replace(r'[^\\d.]', '', regex=True).astype(float)\n",
    "        dictofdfs[table].index.name = 'Year'\n",
    "\n",
    "        \n",
    "  \n",
    "clean(Unemployment, 'Row Labels')"
   ]
  },
  {
   "cell_type": "markdown",
   "metadata": {},
   "source": [
    "OEWS Occupational Employment and Wage Statistics\n",
    "Kansas City GDP contribution by industry"
   ]
  },
  {
   "cell_type": "code",
   "execution_count": 36,
   "metadata": {},
   "outputs": [],
   "source": [
    "OWEScolumns3 = ['AREA_TITLE', 'OCC_CODE', 'OCC_TITLE','O_GROUP','TOT_EMP','LOC_QUOTIENT','A_MEAN', 'H_MEDIAN', 'A_MEDIAN'] #2020-2023\n",
    "OWEScolumns2 = ['area_title', 'occ_code', 'occ_title', 'o_group', 'tot_emp', 'loc_quotient', 'a_mean', 'h_median', 'a_median'] #2019\n",
    "OWEScolumns1 = ['AREA_NAME', 'OCC_CODE', 'OCC_TITLE', 'OCC_GROUP', 'TOT_EMP', 'LOC QUOTIENT', 'A_MEAN', 'H_MEDIAN', 'A_MEDIAN'] #2014-2018\n",
    "\n",
    "files = [f'MSA_M{x}_dl.xlsx' for x in range(2014,2024)]\n",
    "OWES = {}\n",
    "for file in files:\n",
    "    print(file)\n",
    "    try:\n",
    "        try:\n",
    "            OWES[f'{file}'] = pd.read_excel(file, sheet_name=0, index_col='AREA_NAME',header=0, usecols=OWEScolumns1)\n",
    "        except:\n",
    "            print('columns2')\n",
    "            OWES[f'{file}'] = pd.read_excel(file, sheet_name=0, index_col='area_title',header=0, usecols=OWEScolumns2)\n",
    "    except:\n",
    "        print('columns3')\n",
    "        OWES[f'{file}'] = pd.read_excel(file, sheet_name=0, index_col='AREA_TITLE',header=0, usecols=OWEScolumns3)"
   ]
  },
  {
   "cell_type": "markdown",
   "metadata": {},
   "source": [
    "Clean OWES"
   ]
  },
  {
   "cell_type": "code",
   "execution_count": 37,
   "metadata": {},
   "outputs": [],
   "source": [
    "for df in OWES:\n",
    "    OWES[df].index.name = 'AREA_TITLE'\n",
    "    OWES[df].columns = ['OCC_CODE','OCC_TITLE','O_GROUP','TOT_EMP','LOC_QUOTIENT','A_MEAN', 'H_MEDIAN', 'A_MEDIAN']\n",
    "for df in OWES:\n",
    "    OWES[df] = OWES[df].loc['Kansas City, MO-KS']\n",
    "ALLYearsOWES = pd.DataFrame()\n",
    "for df in OWES:\n",
    "    OWES[df]['Year'] = f'{df[5:9]}'\n",
    "    for row in OWES[df]:\n",
    "        OWES[df]['Title_Year'] = OWES[df]['OCC_TITLE'] + df[5:9]\n",
    "OWES['MSA_M2014_dl.xlsx']"
   ]
  },
  {
   "cell_type": "markdown",
   "metadata": {},
   "source": [
    "OWES national data"
   ]
  },
  {
   "cell_type": "code",
   "execution_count": null,
   "metadata": {},
   "outputs": [],
   "source": [
    "OWEScolumns3 = ['OCC_CODE', 'OCC_TITLE','O_GROUP','TOT_EMP','A_MEAN', 'H_MEDIAN', 'A_MEDIAN'] #2020-2023\n",
    "OWEScolumns2 = ['occ_code', 'occ_title', 'o_group', 'tot_emp', 'a_mean', 'h_median', 'a_median'] #2019\n",
    "OWEScolumns1 = ['OCC_CODE', 'OCC_TITLE', 'OCC_GROUP', 'TOT_EMP', 'A_MEAN', 'H_MEDIAN', 'A_MEDIAN'] #2014-2018\n",
    "\n",
    "files = [f'national_M{x}_dl.xlsx' for x in range(2014,2024)]\n",
    "OWESN = {}\n",
    "for file in files:\n",
    "    print(file)\n",
    "    try:\n",
    "        try:\n",
    "            OWESN[f'{file}'] = pd.read_excel(file, sheet_name=0, index_col='OCC_TITLE',header=0, usecols=OWEScolumns1)\n",
    "        except:\n",
    "            print('columns2')\n",
    "            OWESN[f'{file}'] = pd.read_excel(file, sheet_name=0, index_col='occ_title',header=0, usecols=OWEScolumns2)\n",
    "    except:\n",
    "        print('columns3')\n",
    "        OWESN[f'{file}'] = pd.read_excel(file, sheet_name=0, index_col='OCC_TITLE',header=0, usecols=OWEScolumns3)\n",
    "\n",
    "for df in OWESN:\n",
    "    OWESN[df].index.name = 'OCC_TITLE'\n",
    "    OWESN[df].columns = ['OCC_CODE', 'OCC_GROUP', 'TOT_EMP', 'A_MEAN', 'H_MEDIAN', 'A_MEDIAN']\n",
    "for df in OWESN:\n",
    "    OWESN[df]['Year'] = f'{df[10:14]}'\n",
    "\n",
    "\n"
   ]
  },
  {
   "cell_type": "markdown",
   "metadata": {},
   "source": [
    "I decided to save my filtered and cleaned data in an MySQL schema for easy access.\n",
    "\n",
    "MySQL Connection"
   ]
  },
  {
   "cell_type": "code",
   "execution_count": 39,
   "metadata": {},
   "outputs": [],
   "source": [
    "from urllib.parse import quote_plus\n",
    "from sqlalchemy import create_engine\n",
    "\n",
    "# Replace with your actual server, database, username, and password\n",
    "server = 'localhost'\n",
    "database = 'KC_labor'\n",
    "username = 'root'\n",
    "password = '****'\n",
    "driver = 'SQL Server' \n",
    "\n",
    "\n",
    "connection_string = f\"mysql+pymysql://{username}:{quote_plus(password)}@{server}/{database}\"\n",
    "\n",
    "# Create the engine\n",
    "engine = create_engine(connection_string)\n",
    "\n",
    "\n"
   ]
  },
  {
   "cell_type": "markdown",
   "metadata": {},
   "source": [
    "Write to SQL tables for easy access"
   ]
  },
  {
   "cell_type": "code",
   "execution_count": 40,
   "metadata": {},
   "outputs": [],
   "source": [
    "Unemployment['Average of employment'].to_sql('employment',con=engine, if_exists='append', index=True)\n",
    "Unemployment['Average of labor force'].to_sql('labor force',con=engine, if_exists='append', index=True)\n",
    "Unemployment['Average of unemployment'].to_sql('unemployment',con=engine, if_exists='append', index=True)\n",
    "Unemployment['Average of unemployment rate'].to_sql('unemployment rate',con=engine, if_exists='append', index=True)\n",
    "\n",
    "for df in OWES:\n",
    "    OWES[df].to_sql('OWES',con=engine, if_exists='append', index=True)\n",
    "\n",
    "Sheet5.to_sql('CPI', con=engine, if_exists='append', index=True)"
   ]
  },
  {
   "cell_type": "markdown",
   "metadata": {},
   "source": [
    "SQL queries"
   ]
  },
  {
   "cell_type": "code",
   "execution_count": null,
   "metadata": {},
   "outputs": [],
   "source": [
    "import mysql.connector\n",
    "\n",
    "conn = mysql.connector.connect(host=server,\n",
    "                               user=username,\n",
    "                               password=password,\n",
    "                               database=database)\n",
    "\n",
    "\n",
    "#Example\n",
    "query = 'SELECT * FROM `OWES`'\n",
    "df = pd.read_sql(query, conn, index_col='Year')\n",
    "df.head()"
   ]
  },
  {
   "cell_type": "markdown",
   "metadata": {},
   "source": [
    "EDA"
   ]
  },
  {
   "cell_type": "markdown",
   "metadata": {},
   "source": [
    "Replacing missing values"
   ]
  },
  {
   "cell_type": "code",
   "execution_count": null,
   "metadata": {},
   "outputs": [],
   "source": [
    "query = 'SELECT * FROM `OWES`'\n",
    "OWES = pd.read_sql(query, conn, index_col='Year')\n",
    "# indicated a wage equal to or greater than $115.00 per hour or $239,200 per year \n",
    "OWES['H_MEDIAN'] = OWES['H_MEDIAN'].replace('#', '>=115')\n",
    "OWES['A_MEDIAN'] = OWES['A_MEDIAN'].replace('#', '239200')\n",
    "OWES[OWES['OCC_TITLE']=='Physicians and Surgeons, All Other']"
   ]
  },
  {
   "cell_type": "code",
   "execution_count": null,
   "metadata": {},
   "outputs": [],
   "source": [
    "OWES['A_MEDIAN'] = pd.to_numeric(OWES['A_MEDIAN'], errors='coerce')\n",
    "OWES['TOT_EMP'] = pd.to_numeric(OWES['TOT_EMP'], errors='coerce')\n",
    "OWES[OWES['A_MEDIAN'].isnull()].sort_values(['TOT_EMP'],ascending=False).head(30)"
   ]
  },
  {
   "cell_type": "markdown",
   "metadata": {},
   "source": [
    "Are wages keeping up with inflation?"
   ]
  },
  {
   "cell_type": "code",
   "execution_count": null,
   "metadata": {},
   "outputs": [],
   "source": [
    "#CPI yearly average\n",
    "query = 'SELECT * FROM `CPI`'\n",
    "CPI = pd.read_sql(query, conn, index_col='Year')\n",
    "CPI = CPI.apply(lambda x: x.astype('float'))\n",
    "CPI = CPI.mean(axis=1)\n",
    "CPI = CPI / CPI.shift(1)\n",
    "CPI.fillna(0, inplace=True)\n",
    "CPI.drop(2024, inplace=True)\n",
    "CPI.name = 'CPI'\n",
    "\n",
    "#Salary pct increase year over year in major sectors\n",
    "MajorSectors = OWES[OWES['O_GROUP']=='major']\n",
    "MajorSectors.index = MajorSectors.index.astype('int64')\n",
    "MajorSectors = MajorSectors.sort_values(['OCC_TITLE', 'Year'])\n",
    "#MUST USE TRANSFORM INSTEAD OF APPLY TO MATCH INDEX LENGTH\n",
    "MajorSectors['SalaryIncrease'] = MajorSectors.groupby('OCC_TITLE')['A_MEDIAN'].transform(lambda x: x / x.shift(1)).fillna(0)"
   ]
  },
  {
   "cell_type": "code",
   "execution_count": null,
   "metadata": {},
   "outputs": [],
   "source": [
    "Salary_CPI = MajorSectors.merge(CPI, left_index=True, right_index=True, how='left')\n",
    "Salary_CPI\n",
    "Salary_CPI['Rate_over_CPI'] = Salary_CPI['SalaryIncrease'] - Salary_CPI['CPI']\n",
    "Salary_CPI['Rate_over_CPI']\n",
    "\n",
    "#Drop not complete data series\n",
    "print(Salary_CPI.groupby('OCC_TITLE').size())\n",
    "Salary_CPI = Salary_CPI[Salary_CPI['OCC_TITLE'] != 'Educational Instruction and Library Occupations']\n",
    "Salary_CPI = Salary_CPI[Salary_CPI['OCC_TITLE'] != 'Education, Training, and Library Occupations']"
   ]
  },
  {
   "cell_type": "code",
   "execution_count": null,
   "metadata": {},
   "outputs": [],
   "source": [
    "#COMPARE\n",
    "SalaryIncrease_over_CPIIncrease = Salary_CPI.groupby('OCC_TITLE')['Rate_over_CPI'].mean().sort_values()\n",
    "SalaryIncrease_over_CPIIncrease.index = SalaryIncrease_over_CPIIncrease.index.str.replace(' Occupations', '')\n",
    "\n",
    "print(SalaryIncrease_over_CPIIncrease)"
   ]
  },
  {
   "cell_type": "markdown",
   "metadata": {},
   "source": [
    "Major sectors for which average salary increase is not keeping up with inflation\n"
   ]
  },
  {
   "cell_type": "code",
   "execution_count": null,
   "metadata": {},
   "outputs": [],
   "source": [
    "DecreasingSalary = SalaryIncrease_over_CPIIncrease[SalaryIncrease_over_CPIIncrease<0]\n",
    "DecreasingSalary = DecreasingSalary.reset_index()\n",
    "DecreasingSalary.columns = ['Category', 'Value']\n",
    "\n",
    "with sns.axes_style('white'):\n",
    "    g = sns.catplot(data = DecreasingSalary, x = \"Category\", y=\"Value\", aspect = 1.5,\n",
    "                       kind = \"bar\", palette='Set2')\n",
    "    \n",
    "\n",
    "plt.gca().invert_yaxis()\n",
    "g.set_xticklabels(rotation=45, horizontalalignment='right')    \n",
    "g.set_axis_labels(\"Category\", \"Change after Inflation\")\n",
    "plt.title('Sectors with Decreasing Salary', y=1, fontsize = 12)\n",
    "\n",
    "plt.show()"
   ]
  },
  {
   "cell_type": "markdown",
   "metadata": {},
   "source": [
    "Major sectors for which average salary increase is greatest over inflation\n"
   ]
  },
  {
   "cell_type": "code",
   "execution_count": null,
   "metadata": {},
   "outputs": [],
   "source": [
    "IncreasingSalary = SalaryIncrease_over_CPIIncrease.sort_values(ascending=False).head(5)\n",
    "\n",
    "IncreasingSalary = IncreasingSalary.reset_index()\n",
    "IncreasingSalary.columns = ['Category', 'Value']\n",
    "\n",
    "with sns.axes_style('white'):\n",
    "    g = sns.catplot(data = IncreasingSalary, x = \"Category\", y=\"Value\", aspect = 1,\n",
    "                       kind = \"bar\", palette = 'Set2')\n",
    "    \n",
    "plt.subplots_adjust(left=0.45, right=1.25, top=0.9, bottom=0.3)\n",
    "g.set_xticklabels(rotation=65, horizontalalignment='right')    \n",
    "g.set_axis_labels(\"\", \"Change after Inflation\")\n",
    "plt.title('Sectors with Greatest Salary Increase', y=1, fontsize = 12)\n",
    "g.fig.set_size_inches(5, 5.1)\n",
    "\n",
    "plt.show()"
   ]
  },
  {
   "cell_type": "markdown",
   "metadata": {},
   "source": [
    "Sectors with Highest Employment Growth"
   ]
  },
  {
   "cell_type": "code",
   "execution_count": null,
   "metadata": {},
   "outputs": [],
   "source": [
    "\n",
    "MajorSectors['NewJobs'] = MajorSectors.groupby('OCC_TITLE')['TOT_EMP'].transform(lambda x: x - x.shift(1)).fillna(0)\n",
    "#Number of new jobs over last 10 years\n",
    "KCEmploymentGrowth = MajorSectors.groupby('OCC_TITLE')['NewJobs'].sum().sort_values(ascending=False)\n",
    "KCEmploymentGrowth\n"
   ]
  },
  {
   "cell_type": "code",
   "execution_count": null,
   "metadata": {},
   "outputs": [],
   "source": [
    "# KCEmploymentGrowth.head(5).plot(kind='bar')\n",
    "KCEmploymentGrowth = MajorSectors.groupby('OCC_TITLE')['NewJobs'].sum().sort_values(ascending=False)\n",
    "KCEmploymentGrowthTop = KCEmploymentGrowth.head(5)\n",
    "KCEmploymentGrowthTop.index = KCEmploymentGrowthTop.index.str.replace(' Occupations', '')\n",
    "KCEmploymentGrowthTop\n",
    "\n",
    "KCEmploymentGrowthTop = KCEmploymentGrowthTop.reset_index()\n",
    "KCEmploymentGrowthTop.columns = ['Category', 'Value']\n",
    "KCEmploymentGrowthTop\n",
    "\n",
    "with sns.axes_style('white'):\n",
    "    g = sns.catplot(data = KCEmploymentGrowthTop, x = \"Category\", y=\"Value\", aspect = 1,\n",
    "                       kind = \"bar\", palette = 'Set2')\n",
    "    \n",
    "g.set_xticklabels(rotation=65, horizontalalignment='right')    \n",
    "g.set_axis_labels(\"\", \"New Jobs\")\n",
    "plt.title('Sectors with Most Job Growth', y=1, fontsize = 12)\n",
    "plt.subplots_adjust(left=0.55, right=1.25, top=0.9, bottom=0.3)\n",
    "g.fig.set_size_inches(5.05, 5)\n",
    "\n",
    "\n",
    "plt.show()"
   ]
  },
  {
   "cell_type": "markdown",
   "metadata": {},
   "source": [
    "Emphasis on Transportation and Material Moving Occupations"
   ]
  },
  {
   "cell_type": "code",
   "execution_count": null,
   "metadata": {},
   "outputs": [],
   "source": [
    "Transportation = OWES[OWES['OCC_CODE'].str.startswith('53')]\n",
    "Transportation = Transportation[Transportation['OCC_TITLE'] != 'Transportation and Material Moving Occupations']\n",
    "#Some data was not available for all years and cannot be included\n",
    "Transportation = Transportation[Transportation['OCC_TITLE'].map(Transportation['OCC_TITLE'].value_counts()) == 10]\n",
    "Transportation['NewJobs'] = Transportation.groupby('OCC_TITLE')['TOT_EMP'].transform(lambda x: x - x.shift(1)).fillna(0)\n",
    "Transportation.groupby('OCC_TITLE')['NewJobs'].sum().sort_values(ascending=False)"
   ]
  },
  {
   "cell_type": "markdown",
   "metadata": {},
   "source": [
    "Job Titles with most new jobs overall"
   ]
  },
  {
   "cell_type": "code",
   "execution_count": null,
   "metadata": {},
   "outputs": [],
   "source": [
    "Detailed = OWES[OWES['O_GROUP']=='detailed']\n",
    "Detailed.index = Detailed.index.astype('int64')\n",
    "Detailed = Detailed[Detailed['OCC_TITLE'].map(Detailed['OCC_TITLE'].value_counts()) == 10]\n",
    "Detailed['NewJobs'] = Detailed.groupby('OCC_TITLE')['TOT_EMP'].transform(lambda x: x - x.shift(1)).fillna(0)\n",
    "\n",
    "#Number of new jobs over last 10 years\n",
    "JobGrowth = Detailed.groupby('OCC_TITLE')['NewJobs'].sum().sort_values(ascending=False)\n",
    "JobGrowth = JobGrowth.head(5)\n",
    "\n",
    "JobGrowth = JobGrowth.reset_index()\n",
    "JobGrowth.columns = ['Category', 'Value']\n",
    "\n",
    "with sns.axes_style('white'):\n",
    "    g = sns.catplot(data = JobGrowth, x = \"Category\", y=\"Value\", aspect = 1,\n",
    "                       kind = \"bar\", palette = 'Set2')\n",
    "    \n",
    "plt.subplots_adjust(left=0.55, right=1.25, top=0.9, bottom=0.3)\n",
    "g.set_xticklabels(rotation=65, horizontalalignment='right')    \n",
    "g.set_axis_labels(\"Category\", \"New Jobs\")\n",
    "plt.title('Jobs with Most Growth Overall', y=1, fontsize = 12)\n",
    "\n",
    "plt.show()"
   ]
  },
  {
   "cell_type": "markdown",
   "metadata": {},
   "source": [
    "Kansas City VS U.S. Employment Growth by Sector over Decade"
   ]
  },
  {
   "cell_type": "code",
   "execution_count": null,
   "metadata": {},
   "outputs": [],
   "source": [
    "OWESNational = pd.concat(OWESN.values())\n",
    "\n",
    "OWESNmajor = OWESNational[OWESNational['OCC_GROUP'] == 'major']\n",
    "OWESNmajor['NewJobs'] = OWESNmajor.groupby('OCC_TITLE')['TOT_EMP'].transform(lambda x: x - x.shift(1)).fillna(0)\n",
    "NEmploymentGrowth = OWESNmajor.groupby('OCC_TITLE')['NewJobs'].sum().sort_values(ascending=False)\n",
    "\n",
    "KCStarting_Employment = MajorSectors[MajorSectors.index == 2014]\n",
    "KCStarting_Employment['OCC_TITLE'] = KCStarting_Employment['OCC_TITLE']\n",
    "KCStarting_Employment['EMP_GROWTH'] = KCStarting_Employment['OCC_TITLE'].map(KCEmploymentGrowth)\n",
    "\n",
    "KCStarting_Employment['PCT_CHANGE'] = KCStarting_Employment['EMP_GROWTH'] / KCStarting_Employment['TOT_EMP']\n",
    "KCEmpCHANGE = KCStarting_Employment[['OCC_TITLE', 'PCT_CHANGE']]\n",
    "KCEmpCHANGE.set_index('OCC_TITLE', inplace=True)\n",
    "\n",
    "NStarting_Employment = OWESNmajor[OWESNmajor['Year'] == '2014']\n",
    "NStarting_Employment['EMP_GROWTH'] = NStarting_Employment.index.map(NEmploymentGrowth)\n",
    "NStarting_Employment['PCT_CHANGE'] = NStarting_Employment['EMP_GROWTH'] / NStarting_Employment['TOT_EMP']\n",
    "NEmpCHANGE = NStarting_Employment[['PCT_CHANGE']]\n",
    "\n",
    "#KC Percent Diffrence of Increase over National Average\n",
    "#Positive Result: KC outperformed the nation, Negative Result: KC underperformed the nation.\n",
    "percentage_difference = ((KCEmpCHANGE - NEmpCHANGE) / abs(NEmpCHANGE)) * 100\n",
    "percentage_difference = percentage_difference.sort_values(by='PCT_CHANGE')\n",
    "percentage_difference.index = percentage_difference.index.str.replace(' Occupations', '')\n",
    "\n",
    "percentage_difference = percentage_difference.reset_index()\n",
    "percentage_difference.columns = ['Category', 'Value']\n",
    "\n",
    "g.fig.set_size_inches(20, 8)\n",
    "with sns.axes_style('white'):\n",
    "    g = sns.catplot(data = percentage_difference, y = \"Category\", x=\"Value\", aspect = 1.25,\n",
    "                       kind = \"bar\", palette = 'Set2', height=6)\n",
    "    \n",
    "g.fig.set_size_inches(10, 5)\n",
    "    \n",
    "plt.subplots_adjust(left=0.35, right=.8, top=.9, bottom=0.3)\n",
    "g.set_xticklabels(horizontalalignment='center')    \n",
    "g.set_axis_labels(\"Percent of National Growth\", '')\n",
    "plt.title('Job Growth Relative to National', y=1, fontsize = 12)\n",
    "g.ax.axvline(0, color='black', linewidth=1, linestyle='--')\n",
    "\n",
    "plt.show()"
   ]
  },
  {
   "cell_type": "markdown",
   "metadata": {},
   "source": [
    "Kansas City Average Unemployment Rate 2014-2023"
   ]
  },
  {
   "cell_type": "code",
   "execution_count": null,
   "metadata": {},
   "outputs": [],
   "source": [
    "queryEmpl = 'SELECT `Year`, `Grand Total` FROM `unemployment rate` WHERE year BETWEEN 2014 AND 2023'\n",
    "Avg_Unemp_Rate = pd.read_sql(queryEmpl, conn, index_col='Year')\n",
    "Avg_Unemp_Rate.columns = ['Avg Unemp Rate %']\n",
    "Avg_Unemp_Rate = Avg_Unemp_Rate.astype('float').round(2)\n",
    "Avg_Unemp_Rate.plot(kind='line', title=\"Kansas City Unemployment Rate\", fontsize=12)"
   ]
  }
 ],
 "metadata": {
  "kernelspec": {
   "display_name": "Python 3",
   "language": "python",
   "name": "python3"
  },
  "language_info": {
   "codemirror_mode": {
    "name": "ipython",
    "version": 3
   },
   "file_extension": ".py",
   "mimetype": "text/x-python",
   "name": "python",
   "nbconvert_exporter": "python",
   "pygments_lexer": "ipython3",
   "version": "3.12.1"
  }
 },
 "nbformat": 4,
 "nbformat_minor": 2
}
